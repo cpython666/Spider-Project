{
 "cells": [
  {
   "cell_type": "markdown",
   "source": [
    "## 数据爬取并保存"
   ],
   "metadata": {
    "collapsed": false,
    "pycharm": {
     "name": "#%% md\n"
    }
   }
  },
  {
   "cell_type": "code",
   "execution_count": 23,
   "outputs": [],
   "source": [
    "import requests\n",
    "from pprint import pprint\n",
    "books=[]\n",
    "def add_book(table):\n",
    "    for book in table:\n",
    "        books.append({\n",
    "            '小说名':book.get('title'),\n",
    "            '作者名':book.get('author'),\n",
    "            '作者主页':book.get('author_url'),\n",
    "            '热度值':book.get('number'),\n",
    "            '热度单位':book.get('unit'),\n",
    "            '字数':book.get('words_num'),\n",
    "            '类别1':book.get('category1_name'),\n",
    "            '类别2':book.get('category2_name'),\n",
    "            '最新章节':book.get('latest_chapter_title'),\n",
    "            '更新时间':book.get('update_time'),\n",
    "            '小说链接':book.get('book_url'),\n",
    "        })\n",
    "for i in range(5):\n",
    "    url=f'https://www.qimao.com/api/rank/book-list?is_girl=0&rank_type=1&date_type=1&date=202304&page={i+1}'\n",
    "    r=requests.get(url,timeout=10).json()\n",
    "    add_book(r.get('data').get('table_data'))"
   ],
   "metadata": {
    "collapsed": false,
    "pycharm": {
     "name": "#%%\n"
    }
   }
  },
  {
   "cell_type": "code",
   "execution_count": 24,
   "outputs": [
    {
     "data": {
      "text/plain": "100"
     },
     "execution_count": 24,
     "metadata": {},
     "output_type": "execute_result"
    }
   ],
   "source": [
    "len(books)"
   ],
   "metadata": {
    "collapsed": false,
    "pycharm": {
     "name": "#%%\n"
    }
   }
  },
  {
   "cell_type": "code",
   "execution_count": 25,
   "outputs": [],
   "source": [
    "import pandas as pd\n",
    "df=pd.DataFrame(books)\n",
    "df.to_csv('爬取数据.csv')"
   ],
   "metadata": {
    "collapsed": false,
    "pycharm": {
     "name": "#%%\n"
    }
   }
  },
  {
   "cell_type": "markdown",
   "source": [
    "## 数据处理（热度补全，类别整合，删除原列）"
   ],
   "metadata": {
    "collapsed": false,
    "pycharm": {
     "name": "#%% md\n"
    }
   }
  },
  {
   "cell_type": "code",
   "execution_count": 26,
   "outputs": [
    {
     "data": {
      "text/plain": "       小说名   作者名                                               作者主页    热度值  \\\n0     盖世神医  狐颜乱语  https://www.qimao.com/zuozhe/%E7%8B%90%E9%A2%9...  385.1   \n1     绝世强龙   张龙虎  https://www.qimao.com/zuozhe/%E5%BC%A0%E9%BE%9...  211.2   \n2     寒门枭士    北川  https://www.qimao.com/zuozhe/%E5%8C%97%E5%B7%9...  123.2   \n3    武逆九千界    虚尘  https://www.qimao.com/zuozhe/%E8%99%9A%E5%B0%9...   63.2   \n4     混沌剑帝    运也  https://www.qimao.com/zuozhe/%E8%BF%90%E4%B9%9...   56.7   \n..     ...   ...                                                ...    ...   \n95    控卫凶猛  流浪沙鸥  https://www.qimao.com/zuozhe/%E6%B5%81%E6%B5%A...    8.4   \n96  山野诡闻笔记   吴大胆  https://www.qimao.com/zuozhe/%E5%90%B4%E5%A4%A...    8.3   \n97    不败战神    必焱  https://www.qimao.com/zuozhe/%E5%BF%85%E7%84%B...    8.0   \n98  重回1991   南三石  https://www.qimao.com/zuozhe/%E5%8D%97%E4%B8%8...    8.0   \n99  都市第一剑仙   猪爬树  https://www.qimao.com/zuozhe/%E7%8C%AA%E7%88%A...    7.9   \n\n   热度单位        字数   类别1   类别2                  最新章节                 更新时间  \\\n0     万  391.36万字  都市人生  都市修仙        第1908章  黄金圣树果实  2023-05-31 22:43:15   \n1     万  415.84万字  都市人生  都市高手            第1924章  交互  2023-05-31 19:52:16   \n2     万  321.01万字    历史  架空历史           第1549章  要点脸  2023-05-31 22:41:20   \n3     万  712.99万字  玄幻奇幻  东方玄幻  第3316章  大帝十三斩，碾压真灵九变  2023-05-31 21:10:35   \n4     万  331.92万字  玄幻奇幻  东方玄幻        第1487章  敢嚣张跋扈？  2023-05-31 00:40:12   \n..  ...       ...   ...   ...                   ...                  ...   \n95    万  229.77万字    体育  篮球风云  第598章  无非是煎蛋还是水煮蛋的区别  2023-05-31 17:12:23   \n96    万  184.72万字  奇闻异事  奇门秘术           第720章  立处生虫  2023-05-31 00:59:06   \n97    万  395.97万字  都市人生  都市高手         第1970章  那片星空！  2022-11-22 17:51:16   \n98    万  502.39万字  都市人生  商战职场         第2474章  各种搞事情  2023-05-31 07:21:18   \n99    万  269.71万字  都市人生  都市修仙        第1265章  让子弹飞一会  2023-05-29 21:13:15   \n\n                                   小说链接  \n0   https://www.qimao.com/shuku/195958/  \n1   https://www.qimao.com/shuku/215780/  \n2   https://www.qimao.com/shuku/215169/  \n3   https://www.qimao.com/shuku/215086/  \n4   https://www.qimao.com/shuku/213189/  \n..                                  ...  \n95  https://www.qimao.com/shuku/219883/  \n96  https://www.qimao.com/shuku/214783/  \n97  https://www.qimao.com/shuku/149774/  \n98  https://www.qimao.com/shuku/209888/  \n99  https://www.qimao.com/shuku/210833/  \n\n[100 rows x 11 columns]",
      "text/html": "<div>\n<style scoped>\n    .dataframe tbody tr th:only-of-type {\n        vertical-align: middle;\n    }\n\n    .dataframe tbody tr th {\n        vertical-align: top;\n    }\n\n    .dataframe thead th {\n        text-align: right;\n    }\n</style>\n<table border=\"1\" class=\"dataframe\">\n  <thead>\n    <tr style=\"text-align: right;\">\n      <th></th>\n      <th>小说名</th>\n      <th>作者名</th>\n      <th>作者主页</th>\n      <th>热度值</th>\n      <th>热度单位</th>\n      <th>字数</th>\n      <th>类别1</th>\n      <th>类别2</th>\n      <th>最新章节</th>\n      <th>更新时间</th>\n      <th>小说链接</th>\n    </tr>\n  </thead>\n  <tbody>\n    <tr>\n      <th>0</th>\n      <td>盖世神医</td>\n      <td>狐颜乱语</td>\n      <td>https://www.qimao.com/zuozhe/%E7%8B%90%E9%A2%9...</td>\n      <td>385.1</td>\n      <td>万</td>\n      <td>391.36万字</td>\n      <td>都市人生</td>\n      <td>都市修仙</td>\n      <td>第1908章  黄金圣树果实</td>\n      <td>2023-05-31 22:43:15</td>\n      <td>https://www.qimao.com/shuku/195958/</td>\n    </tr>\n    <tr>\n      <th>1</th>\n      <td>绝世强龙</td>\n      <td>张龙虎</td>\n      <td>https://www.qimao.com/zuozhe/%E5%BC%A0%E9%BE%9...</td>\n      <td>211.2</td>\n      <td>万</td>\n      <td>415.84万字</td>\n      <td>都市人生</td>\n      <td>都市高手</td>\n      <td>第1924章  交互</td>\n      <td>2023-05-31 19:52:16</td>\n      <td>https://www.qimao.com/shuku/215780/</td>\n    </tr>\n    <tr>\n      <th>2</th>\n      <td>寒门枭士</td>\n      <td>北川</td>\n      <td>https://www.qimao.com/zuozhe/%E5%8C%97%E5%B7%9...</td>\n      <td>123.2</td>\n      <td>万</td>\n      <td>321.01万字</td>\n      <td>历史</td>\n      <td>架空历史</td>\n      <td>第1549章  要点脸</td>\n      <td>2023-05-31 22:41:20</td>\n      <td>https://www.qimao.com/shuku/215169/</td>\n    </tr>\n    <tr>\n      <th>3</th>\n      <td>武逆九千界</td>\n      <td>虚尘</td>\n      <td>https://www.qimao.com/zuozhe/%E8%99%9A%E5%B0%9...</td>\n      <td>63.2</td>\n      <td>万</td>\n      <td>712.99万字</td>\n      <td>玄幻奇幻</td>\n      <td>东方玄幻</td>\n      <td>第3316章  大帝十三斩，碾压真灵九变</td>\n      <td>2023-05-31 21:10:35</td>\n      <td>https://www.qimao.com/shuku/215086/</td>\n    </tr>\n    <tr>\n      <th>4</th>\n      <td>混沌剑帝</td>\n      <td>运也</td>\n      <td>https://www.qimao.com/zuozhe/%E8%BF%90%E4%B9%9...</td>\n      <td>56.7</td>\n      <td>万</td>\n      <td>331.92万字</td>\n      <td>玄幻奇幻</td>\n      <td>东方玄幻</td>\n      <td>第1487章  敢嚣张跋扈？</td>\n      <td>2023-05-31 00:40:12</td>\n      <td>https://www.qimao.com/shuku/213189/</td>\n    </tr>\n    <tr>\n      <th>...</th>\n      <td>...</td>\n      <td>...</td>\n      <td>...</td>\n      <td>...</td>\n      <td>...</td>\n      <td>...</td>\n      <td>...</td>\n      <td>...</td>\n      <td>...</td>\n      <td>...</td>\n      <td>...</td>\n    </tr>\n    <tr>\n      <th>95</th>\n      <td>控卫凶猛</td>\n      <td>流浪沙鸥</td>\n      <td>https://www.qimao.com/zuozhe/%E6%B5%81%E6%B5%A...</td>\n      <td>8.4</td>\n      <td>万</td>\n      <td>229.77万字</td>\n      <td>体育</td>\n      <td>篮球风云</td>\n      <td>第598章  无非是煎蛋还是水煮蛋的区别</td>\n      <td>2023-05-31 17:12:23</td>\n      <td>https://www.qimao.com/shuku/219883/</td>\n    </tr>\n    <tr>\n      <th>96</th>\n      <td>山野诡闻笔记</td>\n      <td>吴大胆</td>\n      <td>https://www.qimao.com/zuozhe/%E5%90%B4%E5%A4%A...</td>\n      <td>8.3</td>\n      <td>万</td>\n      <td>184.72万字</td>\n      <td>奇闻异事</td>\n      <td>奇门秘术</td>\n      <td>第720章  立处生虫</td>\n      <td>2023-05-31 00:59:06</td>\n      <td>https://www.qimao.com/shuku/214783/</td>\n    </tr>\n    <tr>\n      <th>97</th>\n      <td>不败战神</td>\n      <td>必焱</td>\n      <td>https://www.qimao.com/zuozhe/%E5%BF%85%E7%84%B...</td>\n      <td>8.0</td>\n      <td>万</td>\n      <td>395.97万字</td>\n      <td>都市人生</td>\n      <td>都市高手</td>\n      <td>第1970章  那片星空！</td>\n      <td>2022-11-22 17:51:16</td>\n      <td>https://www.qimao.com/shuku/149774/</td>\n    </tr>\n    <tr>\n      <th>98</th>\n      <td>重回1991</td>\n      <td>南三石</td>\n      <td>https://www.qimao.com/zuozhe/%E5%8D%97%E4%B8%8...</td>\n      <td>8.0</td>\n      <td>万</td>\n      <td>502.39万字</td>\n      <td>都市人生</td>\n      <td>商战职场</td>\n      <td>第2474章  各种搞事情</td>\n      <td>2023-05-31 07:21:18</td>\n      <td>https://www.qimao.com/shuku/209888/</td>\n    </tr>\n    <tr>\n      <th>99</th>\n      <td>都市第一剑仙</td>\n      <td>猪爬树</td>\n      <td>https://www.qimao.com/zuozhe/%E7%8C%AA%E7%88%A...</td>\n      <td>7.9</td>\n      <td>万</td>\n      <td>269.71万字</td>\n      <td>都市人生</td>\n      <td>都市修仙</td>\n      <td>第1265章  让子弹飞一会</td>\n      <td>2023-05-29 21:13:15</td>\n      <td>https://www.qimao.com/shuku/210833/</td>\n    </tr>\n  </tbody>\n</table>\n<p>100 rows × 11 columns</p>\n</div>"
     },
     "execution_count": 26,
     "metadata": {},
     "output_type": "execute_result"
    }
   ],
   "source": [
    "df_处理=df\n",
    "df_处理"
   ],
   "metadata": {
    "collapsed": false,
    "pycharm": {
     "name": "#%%\n"
    }
   }
  },
  {
   "cell_type": "code",
   "execution_count": 31,
   "outputs": [],
   "source": [
    "def compute_热度(row):\n",
    "    return row['热度值']+row['热度单位']\n",
    "df_处理['热度']=df_处理.apply(compute_热度,axis=1)"
   ],
   "metadata": {
    "collapsed": false,
    "pycharm": {
     "name": "#%%\n"
    }
   }
  },
  {
   "cell_type": "code",
   "execution_count": 32,
   "outputs": [],
   "source": [
    "def compute_类别(row):\n",
    "    return row['类别1']+'/'+row['类别2']\n",
    "df_处理['类别']=df_处理.apply(compute_类别,axis=1)"
   ],
   "metadata": {
    "collapsed": false,
    "pycharm": {
     "name": "#%%\n"
    }
   }
  },
  {
   "cell_type": "code",
   "execution_count": 35,
   "outputs": [],
   "source": [
    "df_处理.drop(['热度值','热度单位','类别1','类别2'],axis=1,inplace=True)"
   ],
   "metadata": {
    "collapsed": false,
    "pycharm": {
     "name": "#%%\n"
    }
   }
  },
  {
   "cell_type": "code",
   "execution_count": 36,
   "outputs": [
    {
     "data": {
      "text/plain": "       小说名   作者名                                               作者主页        字数  \\\n0     盖世神医  狐颜乱语  https://www.qimao.com/zuozhe/%E7%8B%90%E9%A2%9...  391.36万字   \n1     绝世强龙   张龙虎  https://www.qimao.com/zuozhe/%E5%BC%A0%E9%BE%9...  415.84万字   \n2     寒门枭士    北川  https://www.qimao.com/zuozhe/%E5%8C%97%E5%B7%9...  321.01万字   \n3    武逆九千界    虚尘  https://www.qimao.com/zuozhe/%E8%99%9A%E5%B0%9...  712.99万字   \n4     混沌剑帝    运也  https://www.qimao.com/zuozhe/%E8%BF%90%E4%B9%9...  331.92万字   \n..     ...   ...                                                ...       ...   \n95    控卫凶猛  流浪沙鸥  https://www.qimao.com/zuozhe/%E6%B5%81%E6%B5%A...  229.77万字   \n96  山野诡闻笔记   吴大胆  https://www.qimao.com/zuozhe/%E5%90%B4%E5%A4%A...  184.72万字   \n97    不败战神    必焱  https://www.qimao.com/zuozhe/%E5%BF%85%E7%84%B...  395.97万字   \n98  重回1991   南三石  https://www.qimao.com/zuozhe/%E5%8D%97%E4%B8%8...  502.39万字   \n99  都市第一剑仙   猪爬树  https://www.qimao.com/zuozhe/%E7%8C%AA%E7%88%A...  269.71万字   \n\n                    最新章节                 更新时间  \\\n0         第1908章  黄金圣树果实  2023-05-31 22:43:15   \n1             第1924章  交互  2023-05-31 19:52:16   \n2            第1549章  要点脸  2023-05-31 22:41:20   \n3   第3316章  大帝十三斩，碾压真灵九变  2023-05-31 21:10:35   \n4         第1487章  敢嚣张跋扈？  2023-05-31 00:40:12   \n..                   ...                  ...   \n95  第598章  无非是煎蛋还是水煮蛋的区别  2023-05-31 17:12:23   \n96           第720章  立处生虫  2023-05-31 00:59:06   \n97         第1970章  那片星空！  2022-11-22 17:51:16   \n98         第2474章  各种搞事情  2023-05-31 07:21:18   \n99        第1265章  让子弹飞一会  2023-05-29 21:13:15   \n\n                                   小说链接      热度         类别  \n0   https://www.qimao.com/shuku/195958/  385.1万  都市人生/都市修仙  \n1   https://www.qimao.com/shuku/215780/  211.2万  都市人生/都市高手  \n2   https://www.qimao.com/shuku/215169/  123.2万    历史/架空历史  \n3   https://www.qimao.com/shuku/215086/   63.2万  玄幻奇幻/东方玄幻  \n4   https://www.qimao.com/shuku/213189/   56.7万  玄幻奇幻/东方玄幻  \n..                                  ...     ...        ...  \n95  https://www.qimao.com/shuku/219883/    8.4万    体育/篮球风云  \n96  https://www.qimao.com/shuku/214783/    8.3万  奇闻异事/奇门秘术  \n97  https://www.qimao.com/shuku/149774/    8.0万  都市人生/都市高手  \n98  https://www.qimao.com/shuku/209888/    8.0万  都市人生/商战职场  \n99  https://www.qimao.com/shuku/210833/    7.9万  都市人生/都市修仙  \n\n[100 rows x 9 columns]",
      "text/html": "<div>\n<style scoped>\n    .dataframe tbody tr th:only-of-type {\n        vertical-align: middle;\n    }\n\n    .dataframe tbody tr th {\n        vertical-align: top;\n    }\n\n    .dataframe thead th {\n        text-align: right;\n    }\n</style>\n<table border=\"1\" class=\"dataframe\">\n  <thead>\n    <tr style=\"text-align: right;\">\n      <th></th>\n      <th>小说名</th>\n      <th>作者名</th>\n      <th>作者主页</th>\n      <th>字数</th>\n      <th>最新章节</th>\n      <th>更新时间</th>\n      <th>小说链接</th>\n      <th>热度</th>\n      <th>类别</th>\n    </tr>\n  </thead>\n  <tbody>\n    <tr>\n      <th>0</th>\n      <td>盖世神医</td>\n      <td>狐颜乱语</td>\n      <td>https://www.qimao.com/zuozhe/%E7%8B%90%E9%A2%9...</td>\n      <td>391.36万字</td>\n      <td>第1908章  黄金圣树果实</td>\n      <td>2023-05-31 22:43:15</td>\n      <td>https://www.qimao.com/shuku/195958/</td>\n      <td>385.1万</td>\n      <td>都市人生/都市修仙</td>\n    </tr>\n    <tr>\n      <th>1</th>\n      <td>绝世强龙</td>\n      <td>张龙虎</td>\n      <td>https://www.qimao.com/zuozhe/%E5%BC%A0%E9%BE%9...</td>\n      <td>415.84万字</td>\n      <td>第1924章  交互</td>\n      <td>2023-05-31 19:52:16</td>\n      <td>https://www.qimao.com/shuku/215780/</td>\n      <td>211.2万</td>\n      <td>都市人生/都市高手</td>\n    </tr>\n    <tr>\n      <th>2</th>\n      <td>寒门枭士</td>\n      <td>北川</td>\n      <td>https://www.qimao.com/zuozhe/%E5%8C%97%E5%B7%9...</td>\n      <td>321.01万字</td>\n      <td>第1549章  要点脸</td>\n      <td>2023-05-31 22:41:20</td>\n      <td>https://www.qimao.com/shuku/215169/</td>\n      <td>123.2万</td>\n      <td>历史/架空历史</td>\n    </tr>\n    <tr>\n      <th>3</th>\n      <td>武逆九千界</td>\n      <td>虚尘</td>\n      <td>https://www.qimao.com/zuozhe/%E8%99%9A%E5%B0%9...</td>\n      <td>712.99万字</td>\n      <td>第3316章  大帝十三斩，碾压真灵九变</td>\n      <td>2023-05-31 21:10:35</td>\n      <td>https://www.qimao.com/shuku/215086/</td>\n      <td>63.2万</td>\n      <td>玄幻奇幻/东方玄幻</td>\n    </tr>\n    <tr>\n      <th>4</th>\n      <td>混沌剑帝</td>\n      <td>运也</td>\n      <td>https://www.qimao.com/zuozhe/%E8%BF%90%E4%B9%9...</td>\n      <td>331.92万字</td>\n      <td>第1487章  敢嚣张跋扈？</td>\n      <td>2023-05-31 00:40:12</td>\n      <td>https://www.qimao.com/shuku/213189/</td>\n      <td>56.7万</td>\n      <td>玄幻奇幻/东方玄幻</td>\n    </tr>\n    <tr>\n      <th>...</th>\n      <td>...</td>\n      <td>...</td>\n      <td>...</td>\n      <td>...</td>\n      <td>...</td>\n      <td>...</td>\n      <td>...</td>\n      <td>...</td>\n      <td>...</td>\n    </tr>\n    <tr>\n      <th>95</th>\n      <td>控卫凶猛</td>\n      <td>流浪沙鸥</td>\n      <td>https://www.qimao.com/zuozhe/%E6%B5%81%E6%B5%A...</td>\n      <td>229.77万字</td>\n      <td>第598章  无非是煎蛋还是水煮蛋的区别</td>\n      <td>2023-05-31 17:12:23</td>\n      <td>https://www.qimao.com/shuku/219883/</td>\n      <td>8.4万</td>\n      <td>体育/篮球风云</td>\n    </tr>\n    <tr>\n      <th>96</th>\n      <td>山野诡闻笔记</td>\n      <td>吴大胆</td>\n      <td>https://www.qimao.com/zuozhe/%E5%90%B4%E5%A4%A...</td>\n      <td>184.72万字</td>\n      <td>第720章  立处生虫</td>\n      <td>2023-05-31 00:59:06</td>\n      <td>https://www.qimao.com/shuku/214783/</td>\n      <td>8.3万</td>\n      <td>奇闻异事/奇门秘术</td>\n    </tr>\n    <tr>\n      <th>97</th>\n      <td>不败战神</td>\n      <td>必焱</td>\n      <td>https://www.qimao.com/zuozhe/%E5%BF%85%E7%84%B...</td>\n      <td>395.97万字</td>\n      <td>第1970章  那片星空！</td>\n      <td>2022-11-22 17:51:16</td>\n      <td>https://www.qimao.com/shuku/149774/</td>\n      <td>8.0万</td>\n      <td>都市人生/都市高手</td>\n    </tr>\n    <tr>\n      <th>98</th>\n      <td>重回1991</td>\n      <td>南三石</td>\n      <td>https://www.qimao.com/zuozhe/%E5%8D%97%E4%B8%8...</td>\n      <td>502.39万字</td>\n      <td>第2474章  各种搞事情</td>\n      <td>2023-05-31 07:21:18</td>\n      <td>https://www.qimao.com/shuku/209888/</td>\n      <td>8.0万</td>\n      <td>都市人生/商战职场</td>\n    </tr>\n    <tr>\n      <th>99</th>\n      <td>都市第一剑仙</td>\n      <td>猪爬树</td>\n      <td>https://www.qimao.com/zuozhe/%E7%8C%AA%E7%88%A...</td>\n      <td>269.71万字</td>\n      <td>第1265章  让子弹飞一会</td>\n      <td>2023-05-29 21:13:15</td>\n      <td>https://www.qimao.com/shuku/210833/</td>\n      <td>7.9万</td>\n      <td>都市人生/都市修仙</td>\n    </tr>\n  </tbody>\n</table>\n<p>100 rows × 9 columns</p>\n</div>"
     },
     "execution_count": 36,
     "metadata": {},
     "output_type": "execute_result"
    }
   ],
   "source": [
    "df_处理"
   ],
   "metadata": {
    "collapsed": false,
    "pycharm": {
     "name": "#%%\n"
    }
   }
  },
  {
   "cell_type": "code",
   "execution_count": 37,
   "outputs": [],
   "source": [
    "df_处理.to_csv('爬取数据-处理.csv')"
   ],
   "metadata": {
    "collapsed": false,
    "pycharm": {
     "name": "#%%\n"
    }
   }
  },
  {
   "cell_type": "markdown",
   "source": [
    "## 数据清洗（删除字数少于500万字的）"
   ],
   "metadata": {
    "collapsed": false,
    "pycharm": {
     "name": "#%% md\n"
    }
   }
  },
  {
   "cell_type": "code",
   "execution_count": 43,
   "outputs": [
    {
     "ename": "TypeError",
     "evalue": "cannot convert the series to <class 'float'>",
     "output_type": "error",
     "traceback": [
      "\u001B[1;31m---------------------------------------------------------------------------\u001B[0m",
      "\u001B[1;31mTypeError\u001B[0m                                 Traceback (most recent call last)",
      "\u001B[1;32m~\\AppData\\Local\\Temp\\ipykernel_22976\\2059105010.py\u001B[0m in \u001B[0;36m<module>\u001B[1;34m\u001B[0m\n\u001B[1;32m----> 1\u001B[1;33m \u001B[0mdf_清洗\u001B[0m\u001B[1;33m[\u001B[0m\u001B[0mfloat\u001B[0m\u001B[1;33m(\u001B[0m\u001B[0mdf_清洗\u001B[0m\u001B[1;33m[\u001B[0m\u001B[1;34m'字数'\u001B[0m\u001B[1;33m]\u001B[0m\u001B[1;33m.\u001B[0m\u001B[0mreplace\u001B[0m\u001B[1;33m(\u001B[0m\u001B[1;34m'万字'\u001B[0m\u001B[1;33m,\u001B[0m\u001B[1;34m''\u001B[0m\u001B[1;33m)\u001B[0m\u001B[1;33m)\u001B[0m \u001B[1;33m<\u001B[0m \u001B[1;36m500\u001B[0m\u001B[1;33m]\u001B[0m\u001B[1;33m\u001B[0m\u001B[1;33m\u001B[0m\u001B[0m\n\u001B[0m",
      "\u001B[1;32mD:\\python_pycharm\\venv\\lib\\site-packages\\pandas\\core\\series.py\u001B[0m in \u001B[0;36mwrapper\u001B[1;34m(self)\u001B[0m\n\u001B[0;32m    183\u001B[0m         \u001B[1;32mif\u001B[0m \u001B[0mlen\u001B[0m\u001B[1;33m(\u001B[0m\u001B[0mself\u001B[0m\u001B[1;33m)\u001B[0m \u001B[1;33m==\u001B[0m \u001B[1;36m1\u001B[0m\u001B[1;33m:\u001B[0m\u001B[1;33m\u001B[0m\u001B[1;33m\u001B[0m\u001B[0m\n\u001B[0;32m    184\u001B[0m             \u001B[1;32mreturn\u001B[0m \u001B[0mconverter\u001B[0m\u001B[1;33m(\u001B[0m\u001B[0mself\u001B[0m\u001B[1;33m.\u001B[0m\u001B[0miloc\u001B[0m\u001B[1;33m[\u001B[0m\u001B[1;36m0\u001B[0m\u001B[1;33m]\u001B[0m\u001B[1;33m)\u001B[0m\u001B[1;33m\u001B[0m\u001B[1;33m\u001B[0m\u001B[0m\n\u001B[1;32m--> 185\u001B[1;33m         \u001B[1;32mraise\u001B[0m \u001B[0mTypeError\u001B[0m\u001B[1;33m(\u001B[0m\u001B[1;34mf\"cannot convert the series to {converter}\"\u001B[0m\u001B[1;33m)\u001B[0m\u001B[1;33m\u001B[0m\u001B[1;33m\u001B[0m\u001B[0m\n\u001B[0m\u001B[0;32m    186\u001B[0m \u001B[1;33m\u001B[0m\u001B[0m\n\u001B[0;32m    187\u001B[0m     \u001B[0mwrapper\u001B[0m\u001B[1;33m.\u001B[0m\u001B[0m__name__\u001B[0m \u001B[1;33m=\u001B[0m \u001B[1;34mf\"__{converter.__name__}__\"\u001B[0m\u001B[1;33m\u001B[0m\u001B[1;33m\u001B[0m\u001B[0m\n",
      "\u001B[1;31mTypeError\u001B[0m: cannot convert the series to <class 'float'>"
     ]
    }
   ],
   "source": [],
   "metadata": {
    "collapsed": false,
    "pycharm": {
     "name": "#%%\n"
    }
   }
  },
  {
   "cell_type": "code",
   "execution_count": 49,
   "outputs": [],
   "source": [
    "df_清洗=df_处理\n",
    "# df_清洗 = df_清洗.drop(df_清洗[(float(df_清洗['字数'].replace('万字','')) < 500)].index)\n",
    "df_清洗 = df_清洗.drop(df_清洗[df_清洗['字数'].str.replace('万字','').astype(float) < 500].index)\n",
    "# df_清洗 = df_清洗.drop(df_清洗[float(df_清洗['字数'].str.replace('万字','')) < 500].index)\n",
    "df_清洗.index = range(len(df_清洗))\n",
    "df_清洗.to_csv('爬取数据_处理.csv')\n"
   ],
   "metadata": {
    "collapsed": false,
    "pycharm": {
     "name": "#%%\n"
    }
   }
  },
  {
   "cell_type": "code",
   "execution_count": null,
   "outputs": [],
   "source": [],
   "metadata": {
    "collapsed": false,
    "pycharm": {
     "name": "#%%\n"
    }
   }
  }
 ],
 "metadata": {
  "kernelspec": {
   "display_name": "Python 3",
   "language": "python",
   "name": "python3"
  },
  "language_info": {
   "codemirror_mode": {
    "name": "ipython",
    "version": 2
   },
   "file_extension": ".py",
   "mimetype": "text/x-python",
   "name": "python",
   "nbconvert_exporter": "python",
   "pygments_lexer": "ipython2",
   "version": "2.7.6"
  }
 },
 "nbformat": 4,
 "nbformat_minor": 0
}